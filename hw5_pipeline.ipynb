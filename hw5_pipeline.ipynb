{
 "cells": [
  {
   "cell_type": "code",
   "execution_count": null,
   "id": "f8dc454f",
   "metadata": {},
   "outputs": [
    {
     "ename": "",
     "evalue": "",
     "output_type": "error",
     "traceback": [
      "\u001b[1;31mRunning cells with 'hospital (Python 3.12.11)' requires the ipykernel package.\n",
      "\u001b[1;31mInstall 'ipykernel' into the Python environment. \n",
      "\u001b[1;31mCommand: '\"/Users/olsaberani/mchl ex4/hw5_computing-1/.venv/bin/python\" -m pip install ipykernel -U --force-reinstall'"
     ]
    }
   ],
   "source": [
    "import pandas as pd\n",
    "from sklearn.metrics import roc_auc_score\n",
    "\n",
    "from src.data_loader import DataLoader\n",
    "from src.preprocessor_dropna import DropNaPreprocessor\n",
    "from src.preprocessor_fillmean import FillMeanPreprocessor\n",
    "from src.features import BMIFeature, AgeGroupFeature\n",
    "from src.model import Model\n"
   ]
  },
  {
   "cell_type": "code",
   "execution_count": null,
   "id": "33b96a32",
   "metadata": {},
   "outputs": [],
   "source": [
    "#load and split data\n",
    "loader = DataLoader(\"data/sample_diabetes_mellitus_data.csv\")\n",
    "train_df, test_df = loader.split_data()\n",
    "\n",
    "print(\"Train shape:\", train_df.shape)\n",
    "print(\"Test shape:\", test_df.shape)\n"
   ]
  },
  {
   "cell_type": "code",
   "execution_count": null,
   "id": "e5e6196a",
   "metadata": {},
   "outputs": [],
   "source": [
    "\n",
    "dropper = DropNaPreprocessor()\n",
    "train_df = dropper.process(train_df)\n",
    "test_df = dropper.process(test_df)\n",
    "\n",
    "filler = FillMeanPreprocessor()\n",
    "train_df = filler.process(train_df)\n",
    "test_df = filler.process(test_df)\n"
   ]
  },
  {
   "cell_type": "code",
   "execution_count": null,
   "id": "503e3c0f",
   "metadata": {},
   "outputs": [],
   "source": [
    "# create features\n",
    "bmi_feat = BMIFeature()\n",
    "age_feat = AgeGroupFeature()\n",
    "\n",
    "train_df = bmi_feat.transform(train_df)\n",
    "train_df = age_feat.transform(train_df)\n",
    "\n",
    "test_df = bmi_feat.transform(test_df)\n",
    "test_df = age_feat.transform(test_df)\n",
    "\n",
    "print(train_df[[\"height\", \"weight\", \"BMI\", \"age\", \"age_group\"]].head())\n"
   ]
  },
  {
   "cell_type": "code",
   "execution_count": null,
   "id": "2e11cbc9",
   "metadata": {},
   "outputs": [],
   "source": [
    "#train and predict\n",
    "feature_cols = [\"BMI\", \"age\"]\n",
    "target_col = \"diabetes\"\n",
    "\n",
    "model = Model(feature_cols=feature_cols, target_col=target_col, max_iter=1000)\n",
    "model.train(train_df)\n",
    "\n",
    "test_df[\"predictions\"] = model.predict(test_df)\n",
    "print(test_df[[\"BMI\", \"age\", \"predictions\"]].head())\n",
    "\n",
    "#ROC-AUC\n",
    "auc = roc_auc_score(test_df[target_col], test_df[\"predictions\"])\n",
    "print(\"ROC-AUC score:\", auc)\n",
    "\n"
   ]
  }
 ],
 "metadata": {
  "kernelspec": {
   "display_name": "hospital",
   "language": "python",
   "name": "python3"
  },
  "language_info": {
   "name": "python",
   "version": "3.12.11"
  }
 },
 "nbformat": 4,
 "nbformat_minor": 5
}
