{
 "cells": [
  {
   "cell_type": "code",
   "execution_count": null,
   "id": "f8dc454f",
   "metadata": {},
   "outputs": [],
   "source": [
    "import pandas as pd\n",
    "from sklearn.metrics import roc_auc_score\n",
    "from src.data_loader import DataLoader\n",
    "from src.preprocessor_dropna import DropNaPreprocessor\n",
    "from src.preprocessor_fillmean import FillMeanPreprocessor\n",
    "from src.features import BMIFeature, AgeGroupFeature\n",
    "from src.model import Model"
   ]
  },
  {
   "cell_type": "code",
   "execution_count": 8,
   "id": "33b96a32",
   "metadata": {},
   "outputs": [
    {
     "name": "stdout",
     "output_type": "stream",
     "text": [
      "After split: <class 'pandas.core.frame.DataFrame'> <class 'pandas.core.frame.DataFrame'>\n"
     ]
    }
   ],
   "source": [
    "#load and split data\n",
    "loader = DataLoader(\"data/sample_diabetes_mellitus_data.csv\")\n",
    "train_df, test_df = loader.split_data()\n",
    "print(\"After split:\", type(train_df), type(test_df))\n",
    "\n",
    "\n"
   ]
  },
  {
   "cell_type": "code",
   "execution_count": null,
   "id": "7b3cdc8e",
   "metadata": {},
   "outputs": [
    {
     "name": "stdout",
     "output_type": "stream",
     "text": [
      "After preprocessing: <class 'pandas.core.frame.DataFrame'> <class 'pandas.core.frame.DataFrame'>\n"
     ]
    }
   ],
   "source": [
    "#preprocessing\n",
    "dropper = DropNaPreprocessor()\n",
    "train_df = dropper.process(train_df)\n",
    "test_df = dropper.process(test_df)\n",
    "\n",
    "filler = FillMeanPreprocessor()\n",
    "train_df = filler.process(train_df)\n",
    "test_df = filler.process(test_df)\n",
    "\n",
    "print(\"After preprocessing:\", type(train_df), type(test_df))\n",
    "\n"
   ]
  },
  {
   "cell_type": "code",
   "execution_count": 10,
   "id": "6bfac474",
   "metadata": {},
   "outputs": [],
   "source": [
    "dropper = DropNaPreprocessor()\n",
    "train_df = dropper.process(train_df)\n",
    "test_df = dropper.process(test_df)\n",
    "\n",
    "filler = FillMeanPreprocessor()\n",
    "train_df = filler.process(train_df)\n",
    "test_df = filler.process(test_df)"
   ]
  },
  {
   "cell_type": "code",
   "execution_count": null,
   "id": "366b2aa9",
   "metadata": {},
   "outputs": [
    {
     "name": "stdout",
     "output_type": "stream",
     "text": [
      "Columns now: ['Unnamed: 0', 'encounter_id', 'hospital_id', 'age', 'bmi', 'elective_surgery', 'ethnicity', 'gender', 'height', 'hospital_admit_source', 'icu_admit_source', 'icu_id', 'icu_stay_type', 'icu_type', 'pre_icu_los_days', 'readmission_status', 'weight', 'albumin_apache', 'apache_2_diagnosis', 'apache_3j_diagnosis', 'apache_post_operative', 'arf_apache', 'bilirubin_apache', 'bun_apache', 'creatinine_apache', 'fio2_apache', 'gcs_eyes_apache', 'gcs_motor_apache', 'gcs_unable_apache', 'gcs_verbal_apache', 'glucose_apache', 'heart_rate_apache', 'hematocrit_apache', 'intubated_apache', 'map_apache', 'paco2_apache', 'paco2_for_ph_apache', 'pao2_apache', 'ph_apache', 'resprate_apache', 'sodium_apache', 'temp_apache', 'urineoutput_apache', 'ventilated_apache', 'wbc_apache', 'aids', 'cirrhosis', 'hepatic_failure', 'immunosuppression', 'leukemia', 'lymphoma', 'solid_tumor_with_metastasis', 'diabetes_mellitus', 'BMI', 'age_group']\n"
     ]
    }
   ],
   "source": [
    "#creating features\n",
    "bmi_feat = BMIFeature()\n",
    "age_feat = AgeGroupFeature()\n",
    "\n",
    "train_df = bmi_feat.transform(train_df)\n",
    "train_df = age_feat.transform(train_df)\n",
    "test_df = bmi_feat.transform(test_df)\n",
    "test_df = age_feat.transform(test_df)\n",
    "\n",
    "print(\"Columns now:\", train_df.columns.tolist())\n"
   ]
  },
  {
   "cell_type": "code",
   "execution_count": 12,
   "id": "2e11cbc9",
   "metadata": {},
   "outputs": [
    {
     "name": "stdout",
     "output_type": "stream",
     "text": [
      "            BMI   age  predictions\n",
      "6252  34.852863  66.0     0.299216\n",
      "1731  28.215375  83.0     0.283543\n",
      "4742  21.575502  64.0     0.142086\n",
      "4521  34.560280  21.0     0.134153\n",
      "6340  40.374334  66.0     0.383298\n"
     ]
    }
   ],
   "source": [
    "#train and predict\n",
    "feature_cols = [\"BMI\", \"age\"]\n",
    "target_col = \"diabetes_mellitus\"  \n",
    "\n",
    "model = Model(feature_cols=feature_cols, target_col=target_col, max_iter=1000)\n",
    "model.train(train_df)\n",
    "\n",
    "test_df[\"predictions\"] = model.predict(test_df)\n",
    "print(test_df[[\"BMI\", \"age\", \"predictions\"]].head())\n"
   ]
  },
  {
   "cell_type": "code",
   "execution_count": 13,
   "id": "137eee75",
   "metadata": {},
   "outputs": [
    {
     "name": "stdout",
     "output_type": "stream",
     "text": [
      "ROC-AUC score: 0.6531516057375493\n"
     ]
    }
   ],
   "source": [
    "#roc and auc\n",
    "auc = roc_auc_score(test_df[target_col], test_df[\"predictions\"])\n",
    "print(\"ROC-AUC score:\", auc)\n"
   ]
  }
 ],
 "metadata": {
  "kernelspec": {
   "display_name": "hospital",
   "language": "python",
   "name": "python3"
  },
  "language_info": {
   "codemirror_mode": {
    "name": "ipython",
    "version": 3
   },
   "file_extension": ".py",
   "mimetype": "text/x-python",
   "name": "python",
   "nbconvert_exporter": "python",
   "pygments_lexer": "ipython3",
   "version": "3.12.11"
  }
 },
 "nbformat": 4,
 "nbformat_minor": 5
}
